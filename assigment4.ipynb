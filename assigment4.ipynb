{
 "cells": [
  {
   "cell_type": "markdown",
   "id": "bbfaa261",
   "metadata": {},
   "source": [
    "Task 1: Read a File and Handle Errors \n",
    "Problem Statement:  Write a Python program that:\n",
    "1.   Opens and reads a text file named sample.txt.\n",
    "2.   Prints its content line by line.\n",
    "3.   Handles errors gracefully if the file does not exist."
   ]
  },
  {
   "cell_type": "code",
   "execution_count": 13,
   "id": "ccecc2a2",
   "metadata": {},
   "outputs": [
    {
     "name": "stdout",
     "output_type": "stream",
     "text": [
      "28\n"
     ]
    }
   ],
   "source": [
    "file1 = open('sample.txt','r+')\n",
    "writing_data = file1.write(\"This ia a sample text file.\")\n",
    "writing_data = file1.write(\"\\nIt contains multiple lines.\")\n",
    "print(writing_data)\n",
    "file1.close()"
   ]
  },
  {
   "cell_type": "code",
   "execution_count": 14,
   "id": "7c01319a",
   "metadata": {},
   "outputs": [
    {
     "name": "stdout",
     "output_type": "stream",
     "text": [
      "This ia a sample text file.\n",
      "It contains multiple lines.\n"
     ]
    }
   ],
   "source": [
    "file1 = open('sample.txt','r+')\n",
    "reading_data = file1.read()\n",
    "print(reading_data)\n",
    "file1.close()"
   ]
  },
  {
   "cell_type": "markdown",
   "id": "3589b923",
   "metadata": {},
   "source": [
    "Error handling:"
   ]
  },
  {
   "cell_type": "markdown",
   "metadata": {},
   "source": []
  },
  {
   "cell_type": "code",
   "execution_count": 16,
   "id": "427b9c06",
   "metadata": {},
   "outputs": [
    {
     "name": "stdout",
     "output_type": "stream",
     "text": [
      "This ia a sample text file.\n",
      "It contains multiple lines.\n"
     ]
    }
   ],
   "source": [
    "try:\n",
    "    with open('sample.txt','r') as file1:\n",
    "        file_content = file1.read()\n",
    "        print(file_content)\n",
    "except FileNotFoundError:\n",
    "    print(\"Error: The file 'sample.txt' was not found.\")\n",
    "    "
   ]
  },
  {
   "cell_type": "code",
   "execution_count": 17,
   "id": "1b2b85b5",
   "metadata": {},
   "outputs": [
    {
     "name": "stdout",
     "output_type": "stream",
     "text": [
      "Error: The file 'sample1.txt' was not found.\n"
     ]
    }
   ],
   "source": [
    "try:\n",
    "    with open('sample1.txt', 'r') as file:\n",
    "        file_content = file.read()\n",
    "        print(file_content)\n",
    "except FileNotFoundError:\n",
    "    print(\"Error: The file 'sample1.txt' was not found.\")"
   ]
  },
  {
   "cell_type": "markdown",
   "id": "42d13044",
   "metadata": {},
   "source": [
    "Task 2: Write and Append Data to a File\n",
    " \n",
    "Problem Statement: Write a Python program that:\n",
    "1.   Takes user input and writes it to a file named output.txt.\n",
    "2.   Appends additional data to the same file.\n",
    "3.   Reads and displays the final content of the file.\n"
   ]
  },
  {
   "cell_type": "code",
   "execution_count": 21,
   "id": "00466926",
   "metadata": {},
   "outputs": [
    {
     "name": "stdout",
     "output_type": "stream",
     "text": [
      "14\n"
     ]
    }
   ],
   "source": [
    "user_input1 = input(\"Enter text to write to the file: \")\n",
    "file1 = open('output.txt','w')\n",
    "writing_input1 = file1.write(user_input1)\n",
    "print(writing_input1)\n",
    "file1.close()"
   ]
  },
  {
   "cell_type": "code",
   "execution_count": 24,
   "id": "f5cca656",
   "metadata": {},
   "outputs": [
    {
     "name": "stdout",
     "output_type": "stream",
     "text": [
      "33\n"
     ]
    }
   ],
   "source": [
    "user_input2 = input(\"enter additional text to appent: \")\n",
    "file1 =open('output.txt','a')\n",
    "appending_input2 = file1.write('\\n')\n",
    "appending_input2 = file1.write(user_input2)\n",
    "print(appending_input2)\n",
    "file1.close()"
   ]
  },
  {
   "cell_type": "code",
   "execution_count": 20,
   "id": "77f643d3",
   "metadata": {},
   "outputs": [
    {
     "name": "stdout",
     "output_type": "stream",
     "text": [
      "Hello, Python!Learning file handling in Python\n"
     ]
    }
   ],
   "source": [
    "file1 = open('output.txt','r')\n",
    "reading_data =file1.read()\n",
    "print(reading_data)\n",
    "file1.close()"
   ]
  },
  {
   "cell_type": "code",
   "execution_count": null,
   "id": "a71084e3",
   "metadata": {},
   "outputs": [],
   "source": []
  }
 ],
 "metadata": {
  "kernelspec": {
   "display_name": "Python 3",
   "language": "python",
   "name": "python3"
  },
  "language_info": {
   "codemirror_mode": {
    "name": "ipython",
    "version": 3
   },
   "file_extension": ".py",
   "mimetype": "text/x-python",
   "name": "python",
   "nbconvert_exporter": "python",
   "pygments_lexer": "ipython3",
   "version": "3.13.2"
  }
 },
 "nbformat": 4,
 "nbformat_minor": 5
}
