{
 "cells": [
  {
   "cell_type": "markdown",
   "id": "54f5537d",
   "metadata": {},
   "source": [
    "Task 1: Calculate Factorial Using a Function \n",
    "\n",
    "\n",
    "Problem Statement: Write a Python program that:\n",
    "1.   Defines a function named factorial that takes a number as an argument and calculates its factorial using a loop or recursion.\n",
    "2.   Returns the calculated factorial.\n",
    "3.   Calls the function with a sample number and prints the output.\n",
    " \n",
    "Expected Output:\n",
    "For example, if the function is called with 5, it should return:"
   ]
  },
  {
   "cell_type": "code",
   "execution_count": 6,
   "id": "6217714b",
   "metadata": {},
   "outputs": [
    {
     "name": "stdout",
     "output_type": "stream",
     "text": [
      "The factorial of 5 is:  120\n"
     ]
    }
   ],
   "source": [
    "\n",
    "def factorial(n):\n",
    "    if n <= 1:\n",
    "        return 1\n",
    "    else:\n",
    "        return n * factorial(n-1)\n",
    "\n",
    "num = int(input(\"Enter a number: \"))\n",
    "result = factorial(num)\n",
    "print(f\"The factorial of {num} is:  {result}\")"
   ]
  },
  {
   "cell_type": "markdown",
   "id": "c6ed5bc1",
   "metadata": {},
   "source": [
    "Task 2: Using the Math Module for Calculations\n",
    " \n",
    "Problem Statement: Write a Python program that:\n",
    "1.   Asks the user for a number as input.\n",
    "2.   Uses the math module to calculate the:\n",
    "o   Square root of the number\n",
    "o   Natural logarithm (log base e) of the number\n",
    "o   Sine of the number (in radians)\n",
    "3.   Displays the calculated results.\n",
    " Expected Output:\n",
    " For example, if the user enters 25, the output should be:"
   ]
  },
  {
   "cell_type": "code",
   "execution_count": 3,
   "id": "a0a5ec85",
   "metadata": {},
   "outputs": [],
   "source": [
    "user_input = int(input(\"Enter a number: \")) "
   ]
  },
  {
   "cell_type": "code",
   "execution_count": 7,
   "id": "69543f09",
   "metadata": {},
   "outputs": [
    {
     "name": "stdout",
     "output_type": "stream",
     "text": [
      "Square root:  5.0\n",
      "Logarithm:  3.2188758248682006\n",
      "Sine:  -0.13235175009777303\n"
     ]
    }
   ],
   "source": [
    "import math\n",
    "user_input = int(input(\"Enter a number: \")) \n",
    "square_root = math.sqrt(user_input)\n",
    "logbe = math.log(user_input)\n",
    "sine = math.sin(user_input)\n",
    "print('Square root: ', square_root)\n",
    "print('Logarithm: ', logbe)\n",
    "print('Sine: ', sine)"
   ]
  },
  {
   "cell_type": "code",
   "execution_count": null,
   "id": "a7cf7706",
   "metadata": {},
   "outputs": [],
   "source": []
  }
 ],
 "metadata": {
  "kernelspec": {
   "display_name": "Python 3",
   "language": "python",
   "name": "python3"
  },
  "language_info": {
   "codemirror_mode": {
    "name": "ipython",
    "version": 3
   },
   "file_extension": ".py",
   "mimetype": "text/x-python",
   "name": "python",
   "nbconvert_exporter": "python",
   "pygments_lexer": "ipython3",
   "version": "3.13.2"
  }
 },
 "nbformat": 4,
 "nbformat_minor": 5
}
