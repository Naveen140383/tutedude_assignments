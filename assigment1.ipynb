{
 "cells": [
  {
   "cell_type": "markdown",
   "id": "35429308",
   "metadata": {},
   "source": [
    "Task 1: Perform Basic Mathematical Operations\n",
    "Problem Statement: Write a Python program that does the following:\n",
    "1.  Takes two numbers as input from the user.\n",
    "2.  Performs the basic mathematical operations on these two numbers:\n",
    "o\tAddition\n",
    "o\tSubtraction\n",
    "o\tMultiplication\n",
    "o\tDivision\n",
    "3.  Displays the results of each operation on the screen.\n"
   ]
  },
  {
   "cell_type": "code",
   "execution_count": 1,
   "id": "6aca1945",
   "metadata": {},
   "outputs": [
    {
     "name": "stdout",
     "output_type": "stream",
     "text": [
      "Addition:  15\n",
      "Subtraction:  -5\n",
      "Multiplication:  50\n",
      "Division:  0.5\n"
     ]
    }
   ],
   "source": [
    "a = input('Enter the first number: ')\n",
    "a = int(a)\n",
    "b = input('Enter the second number: ')\n",
    "b = int(b)\n",
    "# addition\n",
    "add = a + b\n",
    "# subtraction\n",
    "sub = a - b\n",
    "# multiplication\n",
    "mul = a * b\n",
    "# division\n",
    "div = a / b\n",
    "print('Addition: ',add)\n",
    "print('Subtraction: ',sub)\n",
    "print('Multiplication: ',mul)\n",
    "print('Division: ', div)"
   ]
  },
  {
   "cell_type": "markdown",
   "id": "42048938",
   "metadata": {},
   "source": [
    "Task 2: Create a Personalized Greeting\n",
    "Problem Statement: Write a Python program that:\n",
    "1.  Takes a user's first name and last name as input.\n",
    "2.  Concatenates the first name and last name into a full name.\n",
    "3.  Prints a personalized greeting message using the full name."
   ]
  },
  {
   "cell_type": "code",
   "execution_count": 2,
   "id": "ac351a1b",
   "metadata": {},
   "outputs": [
    {
     "name": "stdout",
     "output_type": "stream",
     "text": [
      "Hello, John joe! Welcome to the Python program.\n"
     ]
    }
   ],
   "source": [
    "fname = input('Enter the first name: ')\n",
    "lname = input('Enter the last name: ')\n",
    "print(f\"Hello, {fname} {lname}! Welcome to the Python program.\")"
   ]
  },
  {
   "cell_type": "code",
   "execution_count": null,
   "id": "07228383",
   "metadata": {},
   "outputs": [],
   "source": []
  }
 ],
 "metadata": {
  "kernelspec": {
   "display_name": "Python 3",
   "language": "python",
   "name": "python3"
  },
  "language_info": {
   "codemirror_mode": {
    "name": "ipython",
    "version": 3
   },
   "file_extension": ".py",
   "mimetype": "text/x-python",
   "name": "python",
   "nbconvert_exporter": "python",
   "pygments_lexer": "ipython3",
   "version": "3.13.2"
  }
 },
 "nbformat": 4,
 "nbformat_minor": 5
}
