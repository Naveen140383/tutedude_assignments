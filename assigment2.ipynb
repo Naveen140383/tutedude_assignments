{
 "cells": [
  {
   "cell_type": "markdown",
   "id": "cf181f18",
   "metadata": {},
   "source": [
    "Task 1: Check if a Number is Even or Odd\n",
    "Problem Statement:  Write a Python program that:\n",
    "1. \tTakes an integer input from the user.\n",
    "2. \tChecks whether the number is even or odd using an if-else statement.\n",
    "3. \tDisplays the result accordingly.\n"
   ]
  },
  {
   "cell_type": "code",
   "execution_count": 5,
   "id": "c0166adf",
   "metadata": {},
   "outputs": [
    {
     "name": "stdout",
     "output_type": "stream",
     "text": [
      "12 is an even number\n"
     ]
    }
   ],
   "source": [
    "number = int(input(\"Enter a number: \"))\n",
    "if number % 2 == 0:\n",
    "    print(f\"{number} is an even number\")\n",
    "else:\n",
    "    print(f\"{number} is an odd number\")"
   ]
  },
  {
   "cell_type": "markdown",
   "id": "5d542f82",
   "metadata": {},
   "source": [
    "7 is an odd number"
   ]
  },
  {
   "cell_type": "markdown",
   "id": "9a4c7da9",
   "metadata": {},
   "source": [
    "Task 2: Sum of Integers from 1 to 50 Using a Loop\n",
    " \n",
    "Problem Statement: Write a Python program that:\n",
    "1.   Uses a for loop to iterate over numbers from 1 to 50.\n",
    "2.   Calculates the sum of all integers in this range.\n",
    "3.   Displays the final sum.\n",
    "    "
   ]
  },
  {
   "cell_type": "code",
   "execution_count": 20,
   "id": "3ddcdb9d",
   "metadata": {},
   "outputs": [
    {
     "name": "stdout",
     "output_type": "stream",
     "text": [
      "The sum of numbers from 1 to 50 is:  1275\n"
     ]
    }
   ],
   "source": [
    "r = 0\n",
    "sum1 = 0\n",
    "for r in list(range(1,51)):\n",
    "    sum1 = sum1 +  r\n",
    "print(f'The sum of numbers from 1 to 50 is:  {sum1}')"
   ]
  }
 ],
 "metadata": {
  "kernelspec": {
   "display_name": "Python 3",
   "language": "python",
   "name": "python3"
  },
  "language_info": {
   "codemirror_mode": {
    "name": "ipython",
    "version": 3
   },
   "file_extension": ".py",
   "mimetype": "text/x-python",
   "name": "python",
   "nbconvert_exporter": "python",
   "pygments_lexer": "ipython3",
   "version": "3.13.2"
  }
 },
 "nbformat": 4,
 "nbformat_minor": 5
}
